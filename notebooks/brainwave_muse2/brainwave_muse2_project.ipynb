{
 "cells": [
  {
   "cell_type": "markdown",
   "id": "539210cc-b373-4e30-9a73-efcb97232870",
   "metadata": {},
   "source": [
    "# Streaming & Exploring Muse 2 EEG\n",
    "\n",
    "## Intro\n",
    "This notebook converts raw Muse 2 EEG signals into features for my NeuroAI project. Data flows from Bluetooth stream → CSV/raw buffers → band-power features (δ/θ/α/β/γ). These features will support downstream tasks such as state detection, biofeedback, and interactive visualizations.\n",
    "\n",
    "## Data streams (Muse 2)\n",
    "* EEG: TP9, AF7, AF8, TP10 (RightAUX optional)\n",
    "* Motion: Accelerometer, Gyroscope\n",
    "* Physio: PPG/Heart rate (device/firmware dependent)\n",
    "\n",
    "## Workflow\n",
    "* Connect Muse 2 via Bluetooth\n",
    "* Stream and record raw signals\n",
    "* Preprocess (detrend, notch, bandpass)\n",
    "* Extract band-power features\n",
    "* Save outputs for ML models\n",
    "\n",
    "## Prereqs\n",
    "* Python 3.9+\n",
    "* muselsl \n",
    "* numpy, scipy, pandas, mne, matplotlib\n",
    "* Stable Muse 2 Bluetooth connection"
   ]
  },
  {
   "cell_type": "markdown",
   "id": "31eecf19-db0f-4f65-a74b-1982ac74b2ac",
   "metadata": {},
   "source": [
    "### Setup env"
   ]
  },
  {
   "cell_type": "code",
   "execution_count": 80,
   "id": "64b4b799-6410-4081-9cca-36631a8f1c78",
   "metadata": {},
   "outputs": [],
   "source": [
    "# Install muselsl\n",
    "# !pip install muselsl\n",
    "\n",
    "# Install brainflow (optional, if you want more control)\n",
    "# !pip install brainflow\n"
   ]
  },
  {
   "cell_type": "markdown",
   "id": "2965fa3c-6e7f-4545-a27e-04b864a56f54",
   "metadata": {},
   "source": [
    "### Imports"
   ]
  },
  {
   "cell_type": "code",
   "execution_count": 20,
   "id": "3341ebf3-fb0d-45ea-aa31-d42de6dfaa48",
   "metadata": {},
   "outputs": [],
   "source": [
    "import pandas as pd\n",
    "import numpy as np\n",
    "from pathlib import Path\n",
    "import re\n",
    "import matplotlib.pyplot as plt\n",
    "from scipy import stats"
   ]
  },
  {
   "cell_type": "markdown",
   "id": "dbd1d93a-aa2a-4c14-9b9e-6dad781da49b",
   "metadata": {},
   "source": [
    "### Load and Clean all CSVs"
   ]
  },
  {
   "cell_type": "code",
   "execution_count": 47,
   "id": "a9485f73-7bad-4617-bb56-9deda68d6df5",
   "metadata": {},
   "outputs": [],
   "source": [
    "DATA_DIR = Path(\"data\")\n",
    "\n",
    "EEG_SITES = [\"tp9\",\"af7\",\"af8\",\"tp10\"]\n",
    "BANDS = [\"delta\",\"theta\",\"alpha\",\"beta\",\"gamma\"]"
   ]
  },
  {
   "cell_type": "code",
   "execution_count": 48,
   "id": "54ae4fb1-e1a7-4d81-a268-6a6da6557df5",
   "metadata": {},
   "outputs": [],
   "source": [
    "def get_songname_from_filename(path: Path) -> str:\n",
    "    \"\"\"\n",
    "    Extract song name from filename\n",
    "    \"\"\"\n",
    "    stem = path.stem\n",
    "    parts = stem.split(\"-\", 1)\n",
    "    song_parts = parts[0].split(\"_by_\")\n",
    "    song = song_parts[0]\n",
    "    artist = song_parts[1]\n",
    "    return song\n"
   ]
  },
  {
   "cell_type": "code",
   "execution_count": 49,
   "id": "f54b2ff8-47b4-4ca4-8bad-675d155759b6",
   "metadata": {},
   "outputs": [],
   "source": [
    "def clean_df(df: pd.DataFrame) -> pd.DataFrame:\n",
    "    # Normalize names\n",
    "    df.columns = [re.sub(r\"_+\", \"_\", c.lower().strip().replace(\" \", \"_\")) for c in df.columns]\n",
    "\n",
    "    # Timestamp index if present\n",
    "    if \"timestamp\" in df.columns:\n",
    "        df[\"timestamp\"] = pd.to_datetime(df[\"timestamp\"], errors=\"coerce\", utc=True)\n",
    "        df = df.dropna(subset=[\"timestamp\"]).sort_values(\"timestamp\").set_index(\"timestamp\")\n",
    "\n",
    "    # Coerce numerics \n",
    "    for c in df.columns:\n",
    "        if c != \"elements\":\n",
    "            df[c] = pd.to_numeric(df[c], errors=\"ignore\")\n",
    "\n",
    "    # Drop duplicate timestamps\n",
    "    if isinstance(df.index, pd.DatetimeIndex):\n",
    "        df = df[~df.index.duplicated(keep=\"first\")]\n",
    "\n",
    "    # Fill/interpolate numeric cols to smooth tiny gaps\n",
    "    num_cols = df.select_dtypes(include=\"number\").columns\n",
    "    if len(num_cols):\n",
    "        df[num_cols] = df[num_cols].ffill(limit=5)\n",
    "        if isinstance(df.index, pd.DatetimeIndex):\n",
    "            df[num_cols] = df[num_cols].interpolate(method=\"time\", limit=10, limit_direction=\"both\")\n",
    "        else:\n",
    "            df[num_cols] = df[num_cols].interpolate(limit=10, limit_direction=\"both\")\n",
    "\n",
    "    return df"
   ]
  },
  {
   "cell_type": "code",
   "execution_count": 50,
   "id": "64104c20-c6cb-4190-8e7e-faa1cdb49de1",
   "metadata": {},
   "outputs": [],
   "source": [
    "def add_band_means_and_indices(df: pd.DataFrame) -> pd.DataFrame:\n",
    "    out = df.copy()\n",
    "\n",
    "    # Per-band means across electrodes (alpha_mean, etc.)\n",
    "    for band in BANDS:\n",
    "        cols = [f\"{band}_{s}\" for s in EEG_SITES if f\"{band}_{s}\" in out.columns]\n",
    "        if cols:\n",
    "            out[f\"{band}_mean\"] = out[cols].mean(axis=1)\n",
    "\n",
    "    # Ratios & indices\n",
    "    if {\"alpha_mean\",\"beta_mean\"}.issubset(out.columns):\n",
    "        out[\"alpha_beta_ratio\"] = out[\"alpha_mean\"] / (out[\"beta_mean\"] + 1e-9)\n",
    "\n",
    "    if {\"beta_mean\",\"alpha_mean\",\"theta_mean\"}.issubset(out.columns):\n",
    "        out[\"engagement_idx\"] = out[\"beta_mean\"] / (out[\"alpha_mean\"] + out[\"theta_mean\"] + 1e-9)\n",
    "        out[\"relaxation_idx\"] = out[\"alpha_mean\"] / (out[\"theta_mean\"] + 1e-9)\n",
    "\n",
    "    return out"
   ]
  },
  {
   "cell_type": "markdown",
   "id": "a5ced2eb-b7d6-4325-8640-1ebf37858d77",
   "metadata": {},
   "source": [
    "### Load and Clean all CSVs, add song labels"
   ]
  },
  {
   "cell_type": "code",
   "execution_count": 51,
   "id": "49e0e83e-a15f-45af-b2e3-3fe4de24382d",
   "metadata": {},
   "outputs": [
    {
     "name": "stderr",
     "output_type": "stream",
     "text": [
      "/var/folders/2j/2b2ygyfx2x7g2td9nt_33ghw0000gn/T/ipykernel_23185/548574125.py:13: FutureWarning: errors='ignore' is deprecated and will raise in a future version. Use to_numeric without passing `errors` and catch exceptions explicitly instead\n",
      "  df[c] = pd.to_numeric(df[c], errors=\"ignore\")\n",
      "/var/folders/2j/2b2ygyfx2x7g2td9nt_33ghw0000gn/T/ipykernel_23185/548574125.py:13: FutureWarning: errors='ignore' is deprecated and will raise in a future version. Use to_numeric without passing `errors` and catch exceptions explicitly instead\n",
      "  df[c] = pd.to_numeric(df[c], errors=\"ignore\")\n",
      "/var/folders/2j/2b2ygyfx2x7g2td9nt_33ghw0000gn/T/ipykernel_23185/548574125.py:13: FutureWarning: errors='ignore' is deprecated and will raise in a future version. Use to_numeric without passing `errors` and catch exceptions explicitly instead\n",
      "  df[c] = pd.to_numeric(df[c], errors=\"ignore\")\n",
      "/var/folders/2j/2b2ygyfx2x7g2td9nt_33ghw0000gn/T/ipykernel_23185/548574125.py:13: FutureWarning: errors='ignore' is deprecated and will raise in a future version. Use to_numeric without passing `errors` and catch exceptions explicitly instead\n",
      "  df[c] = pd.to_numeric(df[c], errors=\"ignore\")\n",
      "/var/folders/2j/2b2ygyfx2x7g2td9nt_33ghw0000gn/T/ipykernel_23185/548574125.py:13: FutureWarning: errors='ignore' is deprecated and will raise in a future version. Use to_numeric without passing `errors` and catch exceptions explicitly instead\n",
      "  df[c] = pd.to_numeric(df[c], errors=\"ignore\")\n",
      "/var/folders/2j/2b2ygyfx2x7g2td9nt_33ghw0000gn/T/ipykernel_23185/548574125.py:13: FutureWarning: errors='ignore' is deprecated and will raise in a future version. Use to_numeric without passing `errors` and catch exceptions explicitly instead\n",
      "  df[c] = pd.to_numeric(df[c], errors=\"ignore\")\n"
     ]
    },
    {
     "data": {
      "text/html": [
       "<div>\n",
       "<style scoped>\n",
       "    .dataframe tbody tr th:only-of-type {\n",
       "        vertical-align: middle;\n",
       "    }\n",
       "\n",
       "    .dataframe tbody tr th {\n",
       "        vertical-align: top;\n",
       "    }\n",
       "\n",
       "    .dataframe thead th {\n",
       "        text-align: right;\n",
       "    }\n",
       "</style>\n",
       "<table border=\"1\" class=\"dataframe\">\n",
       "  <thead>\n",
       "    <tr style=\"text-align: right;\">\n",
       "      <th></th>\n",
       "      <th>delta_tp9</th>\n",
       "      <th>delta_af7</th>\n",
       "      <th>delta_af8</th>\n",
       "      <th>delta_tp10</th>\n",
       "      <th>theta_tp9</th>\n",
       "      <th>theta_af7</th>\n",
       "      <th>theta_af8</th>\n",
       "      <th>theta_tp10</th>\n",
       "      <th>alpha_tp9</th>\n",
       "      <th>alpha_af7</th>\n",
       "      <th>...</th>\n",
       "      <th>delta_mean</th>\n",
       "      <th>theta_mean</th>\n",
       "      <th>alpha_mean</th>\n",
       "      <th>beta_mean</th>\n",
       "      <th>gamma_mean</th>\n",
       "      <th>alpha_beta_ratio</th>\n",
       "      <th>engagement_idx</th>\n",
       "      <th>relaxation_idx</th>\n",
       "      <th>song</th>\n",
       "      <th>file</th>\n",
       "    </tr>\n",
       "    <tr>\n",
       "      <th>timestamp</th>\n",
       "      <th></th>\n",
       "      <th></th>\n",
       "      <th></th>\n",
       "      <th></th>\n",
       "      <th></th>\n",
       "      <th></th>\n",
       "      <th></th>\n",
       "      <th></th>\n",
       "      <th></th>\n",
       "      <th></th>\n",
       "      <th></th>\n",
       "      <th></th>\n",
       "      <th></th>\n",
       "      <th></th>\n",
       "      <th></th>\n",
       "      <th></th>\n",
       "      <th></th>\n",
       "      <th></th>\n",
       "      <th></th>\n",
       "      <th></th>\n",
       "      <th></th>\n",
       "    </tr>\n",
       "  </thead>\n",
       "  <tbody>\n",
       "    <tr>\n",
       "      <th>2025-09-08 17:40:47.388000+00:00</th>\n",
       "      <td>0.910783</td>\n",
       "      <td>1.278719</td>\n",
       "      <td>0.956191</td>\n",
       "      <td>0.851393</td>\n",
       "      <td>1.285112</td>\n",
       "      <td>0.882651</td>\n",
       "      <td>0.737912</td>\n",
       "      <td>0.516362</td>\n",
       "      <td>0.714752</td>\n",
       "      <td>0.852208</td>\n",
       "      <td>...</td>\n",
       "      <td>0.999272</td>\n",
       "      <td>0.855509</td>\n",
       "      <td>0.719677</td>\n",
       "      <td>0.528291</td>\n",
       "      <td>0.031451</td>\n",
       "      <td>1.362273</td>\n",
       "      <td>0.335383</td>\n",
       "      <td>0.841226</td>\n",
       "      <td>bulgarian_eternal_funk</td>\n",
       "      <td>bulgarian_eternal_funk_by_eternxlk-2025-09-08-...</td>\n",
       "    </tr>\n",
       "    <tr>\n",
       "      <th>2025-09-08 17:40:47.430000+00:00</th>\n",
       "      <td>0.910783</td>\n",
       "      <td>1.278719</td>\n",
       "      <td>0.956191</td>\n",
       "      <td>0.851393</td>\n",
       "      <td>1.285112</td>\n",
       "      <td>0.882651</td>\n",
       "      <td>0.737912</td>\n",
       "      <td>0.516362</td>\n",
       "      <td>0.714752</td>\n",
       "      <td>0.852208</td>\n",
       "      <td>...</td>\n",
       "      <td>0.999272</td>\n",
       "      <td>0.855509</td>\n",
       "      <td>0.719677</td>\n",
       "      <td>0.528291</td>\n",
       "      <td>0.031451</td>\n",
       "      <td>1.362273</td>\n",
       "      <td>0.335383</td>\n",
       "      <td>0.841226</td>\n",
       "      <td>bulgarian_eternal_funk</td>\n",
       "      <td>bulgarian_eternal_funk_by_eternxlk-2025-09-08-...</td>\n",
       "    </tr>\n",
       "    <tr>\n",
       "      <th>2025-09-08 17:40:47.487000+00:00</th>\n",
       "      <td>0.910783</td>\n",
       "      <td>1.278719</td>\n",
       "      <td>0.956191</td>\n",
       "      <td>0.851393</td>\n",
       "      <td>1.285112</td>\n",
       "      <td>0.882651</td>\n",
       "      <td>0.737912</td>\n",
       "      <td>0.516362</td>\n",
       "      <td>0.714752</td>\n",
       "      <td>0.852208</td>\n",
       "      <td>...</td>\n",
       "      <td>0.999272</td>\n",
       "      <td>0.855509</td>\n",
       "      <td>0.719677</td>\n",
       "      <td>0.528291</td>\n",
       "      <td>0.031451</td>\n",
       "      <td>1.362273</td>\n",
       "      <td>0.335383</td>\n",
       "      <td>0.841226</td>\n",
       "      <td>bulgarian_eternal_funk</td>\n",
       "      <td>bulgarian_eternal_funk_by_eternxlk-2025-09-08-...</td>\n",
       "    </tr>\n",
       "    <tr>\n",
       "      <th>2025-09-08 17:40:48.393000+00:00</th>\n",
       "      <td>0.910783</td>\n",
       "      <td>1.278719</td>\n",
       "      <td>0.956191</td>\n",
       "      <td>0.851393</td>\n",
       "      <td>1.285112</td>\n",
       "      <td>0.882651</td>\n",
       "      <td>0.737912</td>\n",
       "      <td>0.516362</td>\n",
       "      <td>0.714752</td>\n",
       "      <td>0.852208</td>\n",
       "      <td>...</td>\n",
       "      <td>0.999272</td>\n",
       "      <td>0.855509</td>\n",
       "      <td>0.719677</td>\n",
       "      <td>0.528291</td>\n",
       "      <td>0.031451</td>\n",
       "      <td>1.362273</td>\n",
       "      <td>0.335383</td>\n",
       "      <td>0.841226</td>\n",
       "      <td>bulgarian_eternal_funk</td>\n",
       "      <td>bulgarian_eternal_funk_by_eternxlk-2025-09-08-...</td>\n",
       "    </tr>\n",
       "    <tr>\n",
       "      <th>2025-09-08 17:40:48.890000+00:00</th>\n",
       "      <td>0.910783</td>\n",
       "      <td>1.278719</td>\n",
       "      <td>0.956191</td>\n",
       "      <td>0.851393</td>\n",
       "      <td>1.285112</td>\n",
       "      <td>0.882651</td>\n",
       "      <td>0.737912</td>\n",
       "      <td>0.516362</td>\n",
       "      <td>0.714752</td>\n",
       "      <td>0.852208</td>\n",
       "      <td>...</td>\n",
       "      <td>0.999272</td>\n",
       "      <td>0.855509</td>\n",
       "      <td>0.719677</td>\n",
       "      <td>0.528291</td>\n",
       "      <td>0.031451</td>\n",
       "      <td>1.362273</td>\n",
       "      <td>0.335383</td>\n",
       "      <td>0.841226</td>\n",
       "      <td>bulgarian_eternal_funk</td>\n",
       "      <td>bulgarian_eternal_funk_by_eternxlk-2025-09-08-...</td>\n",
       "    </tr>\n",
       "  </tbody>\n",
       "</table>\n",
       "<p>5 rows × 52 columns</p>\n",
       "</div>"
      ],
      "text/plain": [
       "                                  delta_tp9  delta_af7  delta_af8  delta_tp10  \\\n",
       "timestamp                                                                       \n",
       "2025-09-08 17:40:47.388000+00:00   0.910783   1.278719   0.956191    0.851393   \n",
       "2025-09-08 17:40:47.430000+00:00   0.910783   1.278719   0.956191    0.851393   \n",
       "2025-09-08 17:40:47.487000+00:00   0.910783   1.278719   0.956191    0.851393   \n",
       "2025-09-08 17:40:48.393000+00:00   0.910783   1.278719   0.956191    0.851393   \n",
       "2025-09-08 17:40:48.890000+00:00   0.910783   1.278719   0.956191    0.851393   \n",
       "\n",
       "                                  theta_tp9  theta_af7  theta_af8  theta_tp10  \\\n",
       "timestamp                                                                       \n",
       "2025-09-08 17:40:47.388000+00:00   1.285112   0.882651   0.737912    0.516362   \n",
       "2025-09-08 17:40:47.430000+00:00   1.285112   0.882651   0.737912    0.516362   \n",
       "2025-09-08 17:40:47.487000+00:00   1.285112   0.882651   0.737912    0.516362   \n",
       "2025-09-08 17:40:48.393000+00:00   1.285112   0.882651   0.737912    0.516362   \n",
       "2025-09-08 17:40:48.890000+00:00   1.285112   0.882651   0.737912    0.516362   \n",
       "\n",
       "                                  alpha_tp9  alpha_af7  ...  delta_mean  \\\n",
       "timestamp                                               ...               \n",
       "2025-09-08 17:40:47.388000+00:00   0.714752   0.852208  ...    0.999272   \n",
       "2025-09-08 17:40:47.430000+00:00   0.714752   0.852208  ...    0.999272   \n",
       "2025-09-08 17:40:47.487000+00:00   0.714752   0.852208  ...    0.999272   \n",
       "2025-09-08 17:40:48.393000+00:00   0.714752   0.852208  ...    0.999272   \n",
       "2025-09-08 17:40:48.890000+00:00   0.714752   0.852208  ...    0.999272   \n",
       "\n",
       "                                  theta_mean  alpha_mean  beta_mean  \\\n",
       "timestamp                                                             \n",
       "2025-09-08 17:40:47.388000+00:00    0.855509    0.719677   0.528291   \n",
       "2025-09-08 17:40:47.430000+00:00    0.855509    0.719677   0.528291   \n",
       "2025-09-08 17:40:47.487000+00:00    0.855509    0.719677   0.528291   \n",
       "2025-09-08 17:40:48.393000+00:00    0.855509    0.719677   0.528291   \n",
       "2025-09-08 17:40:48.890000+00:00    0.855509    0.719677   0.528291   \n",
       "\n",
       "                                  gamma_mean  alpha_beta_ratio  \\\n",
       "timestamp                                                        \n",
       "2025-09-08 17:40:47.388000+00:00    0.031451          1.362273   \n",
       "2025-09-08 17:40:47.430000+00:00    0.031451          1.362273   \n",
       "2025-09-08 17:40:47.487000+00:00    0.031451          1.362273   \n",
       "2025-09-08 17:40:48.393000+00:00    0.031451          1.362273   \n",
       "2025-09-08 17:40:48.890000+00:00    0.031451          1.362273   \n",
       "\n",
       "                                  engagement_idx  relaxation_idx  \\\n",
       "timestamp                                                          \n",
       "2025-09-08 17:40:47.388000+00:00        0.335383        0.841226   \n",
       "2025-09-08 17:40:47.430000+00:00        0.335383        0.841226   \n",
       "2025-09-08 17:40:47.487000+00:00        0.335383        0.841226   \n",
       "2025-09-08 17:40:48.393000+00:00        0.335383        0.841226   \n",
       "2025-09-08 17:40:48.890000+00:00        0.335383        0.841226   \n",
       "\n",
       "                                                    song  \\\n",
       "timestamp                                                  \n",
       "2025-09-08 17:40:47.388000+00:00  bulgarian_eternal_funk   \n",
       "2025-09-08 17:40:47.430000+00:00  bulgarian_eternal_funk   \n",
       "2025-09-08 17:40:47.487000+00:00  bulgarian_eternal_funk   \n",
       "2025-09-08 17:40:48.393000+00:00  bulgarian_eternal_funk   \n",
       "2025-09-08 17:40:48.890000+00:00  bulgarian_eternal_funk   \n",
       "\n",
       "                                                                               file  \n",
       "timestamp                                                                            \n",
       "2025-09-08 17:40:47.388000+00:00  bulgarian_eternal_funk_by_eternxlk-2025-09-08-...  \n",
       "2025-09-08 17:40:47.430000+00:00  bulgarian_eternal_funk_by_eternxlk-2025-09-08-...  \n",
       "2025-09-08 17:40:47.487000+00:00  bulgarian_eternal_funk_by_eternxlk-2025-09-08-...  \n",
       "2025-09-08 17:40:48.393000+00:00  bulgarian_eternal_funk_by_eternxlk-2025-09-08-...  \n",
       "2025-09-08 17:40:48.890000+00:00  bulgarian_eternal_funk_by_eternxlk-2025-09-08-...  \n",
       "\n",
       "[5 rows x 52 columns]"
      ]
     },
     "execution_count": 51,
     "metadata": {},
     "output_type": "execute_result"
    }
   ],
   "source": [
    "all_dfs = []\n",
    "for f in DATA_DIR.glob(\"*.csv\"):\n",
    "    song = get_songname_from_filename(f)\n",
    "    df = pd.read_csv(f)\n",
    "    df = clean_df(df)\n",
    "    df = add_band_means_and_indices(df)\n",
    "    df[\"song\"] = song\n",
    "    df[\"file\"] = f.name\n",
    "    all_dfs.append(df)\n",
    "\n",
    "assert all_dfs, \"No CSVs found in data/\"\n",
    "\n",
    "big = pd.concat(all_dfs, axis=0, ignore_index=False)  # keep timestamp index if present\n",
    "big.head()\n"
   ]
  },
  {
   "cell_type": "code",
   "execution_count": 58,
   "id": "f4ddbd78-9434-4647-a241-35cc26b43a07",
   "metadata": {},
   "outputs": [
    {
     "data": {
      "text/plain": [
       "Index(['delta_tp9', 'delta_af7', 'delta_af8', 'delta_tp10', 'theta_tp9',\n",
       "       'theta_af7', 'theta_af8', 'theta_tp10', 'alpha_tp9', 'alpha_af7',\n",
       "       'alpha_af8', 'alpha_tp10', 'beta_tp9', 'beta_af7', 'beta_af8',\n",
       "       'beta_tp10', 'gamma_tp9', 'gamma_af7', 'gamma_af8', 'gamma_tp10',\n",
       "       'raw_tp9', 'raw_af7', 'raw_af8', 'raw_tp10', 'aux_right',\n",
       "       'accelerometer_x', 'accelerometer_y', 'accelerometer_z', 'gyro_x',\n",
       "       'gyro_y', 'gyro_z', 'ppg_ambient', 'ppg_ir', 'ppg_red', 'heart_rate',\n",
       "       'headbandon', 'hsi_tp9', 'hsi_af7', 'hsi_af8', 'hsi_tp10', 'battery',\n",
       "       'elements', 'delta_mean', 'theta_mean', 'alpha_mean', 'beta_mean',\n",
       "       'gamma_mean', 'alpha_beta_ratio', 'engagement_idx', 'relaxation_idx',\n",
       "       'song', 'file'],\n",
       "      dtype='object')"
      ]
     },
     "execution_count": 58,
     "metadata": {},
     "output_type": "execute_result"
    }
   ],
   "source": [
    "df.columns"
   ]
  },
  {
   "cell_type": "code",
   "execution_count": 52,
   "id": "684e6d02-e6ed-470e-af6f-be7de418d851",
   "metadata": {},
   "outputs": [
    {
     "data": {
      "text/html": [
       "<div>\n",
       "<style scoped>\n",
       "    .dataframe tbody tr th:only-of-type {\n",
       "        vertical-align: middle;\n",
       "    }\n",
       "\n",
       "    .dataframe tbody tr th {\n",
       "        vertical-align: top;\n",
       "    }\n",
       "\n",
       "    .dataframe thead th {\n",
       "        text-align: right;\n",
       "    }\n",
       "</style>\n",
       "<table border=\"1\" class=\"dataframe\">\n",
       "  <thead>\n",
       "    <tr style=\"text-align: right;\">\n",
       "      <th></th>\n",
       "      <th>alpha_mean</th>\n",
       "      <th>beta_mean</th>\n",
       "      <th>theta_mean</th>\n",
       "      <th>gamma_mean</th>\n",
       "      <th>alpha_beta_ratio</th>\n",
       "      <th>engagement_idx</th>\n",
       "      <th>relaxation_idx</th>\n",
       "      <th>heart_rate_mean</th>\n",
       "    </tr>\n",
       "    <tr>\n",
       "      <th>song</th>\n",
       "      <th></th>\n",
       "      <th></th>\n",
       "      <th></th>\n",
       "      <th></th>\n",
       "      <th></th>\n",
       "      <th></th>\n",
       "      <th></th>\n",
       "      <th></th>\n",
       "    </tr>\n",
       "  </thead>\n",
       "  <tbody>\n",
       "    <tr>\n",
       "      <th>aleph</th>\n",
       "      <td>0.946196</td>\n",
       "      <td>0.607614</td>\n",
       "      <td>0.611535</td>\n",
       "      <td>0.083430</td>\n",
       "      <td>1.595378</td>\n",
       "      <td>0.393215</td>\n",
       "      <td>1.571360</td>\n",
       "      <td>83.255005</td>\n",
       "    </tr>\n",
       "    <tr>\n",
       "      <th>bulgarian_eternal_funk</th>\n",
       "      <td>0.869423</td>\n",
       "      <td>0.391455</td>\n",
       "      <td>0.621211</td>\n",
       "      <td>-0.185108</td>\n",
       "      <td>2.295116</td>\n",
       "      <td>0.263573</td>\n",
       "      <td>1.441030</td>\n",
       "      <td>83.408741</td>\n",
       "    </tr>\n",
       "    <tr>\n",
       "      <th>frequency</th>\n",
       "      <td>0.955808</td>\n",
       "      <td>0.625599</td>\n",
       "      <td>0.551787</td>\n",
       "      <td>0.171912</td>\n",
       "      <td>1.551088</td>\n",
       "      <td>0.418282</td>\n",
       "      <td>1.798718</td>\n",
       "      <td>82.829926</td>\n",
       "    </tr>\n",
       "    <tr>\n",
       "      <th>nature_sounds</th>\n",
       "      <td>0.876195</td>\n",
       "      <td>0.326268</td>\n",
       "      <td>0.616753</td>\n",
       "      <td>-0.184873</td>\n",
       "      <td>2.918081</td>\n",
       "      <td>0.224348</td>\n",
       "      <td>1.474607</td>\n",
       "      <td>83.338314</td>\n",
       "    </tr>\n",
       "    <tr>\n",
       "      <th>walkway_blues</th>\n",
       "      <td>0.752278</td>\n",
       "      <td>0.325983</td>\n",
       "      <td>0.519886</td>\n",
       "      <td>-0.199018</td>\n",
       "      <td>2.359953</td>\n",
       "      <td>0.258926</td>\n",
       "      <td>1.493503</td>\n",
       "      <td>86.501681</td>\n",
       "    </tr>\n",
       "    <tr>\n",
       "      <th>your_idol</th>\n",
       "      <td>0.834838</td>\n",
       "      <td>0.627351</td>\n",
       "      <td>0.581299</td>\n",
       "      <td>0.218263</td>\n",
       "      <td>1.359573</td>\n",
       "      <td>0.455502</td>\n",
       "      <td>1.482410</td>\n",
       "      <td>82.803298</td>\n",
       "    </tr>\n",
       "  </tbody>\n",
       "</table>\n",
       "</div>"
      ],
      "text/plain": [
       "                        alpha_mean  beta_mean  theta_mean  gamma_mean  \\\n",
       "song                                                                    \n",
       "aleph                     0.946196   0.607614    0.611535    0.083430   \n",
       "bulgarian_eternal_funk    0.869423   0.391455    0.621211   -0.185108   \n",
       "frequency                 0.955808   0.625599    0.551787    0.171912   \n",
       "nature_sounds             0.876195   0.326268    0.616753   -0.184873   \n",
       "walkway_blues             0.752278   0.325983    0.519886   -0.199018   \n",
       "your_idol                 0.834838   0.627351    0.581299    0.218263   \n",
       "\n",
       "                        alpha_beta_ratio  engagement_idx  relaxation_idx  \\\n",
       "song                                                                       \n",
       "aleph                           1.595378        0.393215        1.571360   \n",
       "bulgarian_eternal_funk          2.295116        0.263573        1.441030   \n",
       "frequency                       1.551088        0.418282        1.798718   \n",
       "nature_sounds                   2.918081        0.224348        1.474607   \n",
       "walkway_blues                   2.359953        0.258926        1.493503   \n",
       "your_idol                       1.359573        0.455502        1.482410   \n",
       "\n",
       "                        heart_rate_mean  \n",
       "song                                     \n",
       "aleph                         83.255005  \n",
       "bulgarian_eternal_funk        83.408741  \n",
       "frequency                     82.829926  \n",
       "nature_sounds                 83.338314  \n",
       "walkway_blues                 86.501681  \n",
       "your_idol                     82.803298  "
      ]
     },
     "execution_count": 52,
     "metadata": {},
     "output_type": "execute_result"
    }
   ],
   "source": [
    "song_summary = (big\n",
    "    .groupby(\"song\")\n",
    "    .agg({\n",
    "        \"alpha_mean\":\"mean\",\n",
    "        \"beta_mean\":\"mean\",\n",
    "        \"theta_mean\":\"mean\",\n",
    "        \"gamma_mean\":\"mean\",\n",
    "        \"alpha_beta_ratio\":\"mean\",\n",
    "        \"engagement_idx\":\"mean\",\n",
    "        \"relaxation_idx\":\"mean\",\n",
    "        \"heart_rate\":\"mean\" if \"heart_rate\" in big.columns else \"mean\"\n",
    "    })\n",
    "    .rename(columns={\"heart_rate\":\"heart_rate_mean\"})\n",
    "    .sort_index()\n",
    ")\n",
    "\n",
    "song_summary"
   ]
  },
  {
   "cell_type": "markdown",
   "id": "221f7bda-7987-4419-b6ac-72fb02ebc7a0",
   "metadata": {},
   "source": [
    "### First I'll rank Alpha (relaxation/meditative)"
   ]
  },
  {
   "cell_type": "code",
   "execution_count": 67,
   "id": "80bee946-479f-4aa7-bb1e-e4e54cdbb2b7",
   "metadata": {},
   "outputs": [
    {
     "name": "stdout",
     "output_type": "stream",
     "text": [
      "Top by alpha_mean (relaxation):\n"
     ]
    },
    {
     "data": {
      "text/html": [
       "<div>\n",
       "<style scoped>\n",
       "    .dataframe tbody tr th:only-of-type {\n",
       "        vertical-align: middle;\n",
       "    }\n",
       "\n",
       "    .dataframe tbody tr th {\n",
       "        vertical-align: top;\n",
       "    }\n",
       "\n",
       "    .dataframe thead th {\n",
       "        text-align: right;\n",
       "    }\n",
       "</style>\n",
       "<table border=\"1\" class=\"dataframe\">\n",
       "  <thead>\n",
       "    <tr style=\"text-align: right;\">\n",
       "      <th></th>\n",
       "      <th>alpha_mean</th>\n",
       "    </tr>\n",
       "    <tr>\n",
       "      <th>song</th>\n",
       "      <th></th>\n",
       "    </tr>\n",
       "  </thead>\n",
       "  <tbody>\n",
       "    <tr>\n",
       "      <th>frequency</th>\n",
       "      <td>0.955808</td>\n",
       "    </tr>\n",
       "    <tr>\n",
       "      <th>aleph</th>\n",
       "      <td>0.946196</td>\n",
       "    </tr>\n",
       "    <tr>\n",
       "      <th>nature_sounds</th>\n",
       "      <td>0.876195</td>\n",
       "    </tr>\n",
       "    <tr>\n",
       "      <th>bulgarian_eternal_funk</th>\n",
       "      <td>0.869423</td>\n",
       "    </tr>\n",
       "    <tr>\n",
       "      <th>your_idol</th>\n",
       "      <td>0.834838</td>\n",
       "    </tr>\n",
       "    <tr>\n",
       "      <th>walkway_blues</th>\n",
       "      <td>0.752278</td>\n",
       "    </tr>\n",
       "  </tbody>\n",
       "</table>\n",
       "</div>"
      ],
      "text/plain": [
       "                        alpha_mean\n",
       "song                              \n",
       "frequency                 0.955808\n",
       "aleph                     0.946196\n",
       "nature_sounds             0.876195\n",
       "bulgarian_eternal_funk    0.869423\n",
       "your_idol                 0.834838\n",
       "walkway_blues             0.752278"
      ]
     },
     "metadata": {},
     "output_type": "display_data"
    }
   ],
   "source": [
    "rank_alpha = song_summary.sort_values(\"alpha_mean\", ascending=False)[[\"alpha_mean\"]]\n",
    "print(\"Top by alpha_mean (relaxation):\")\n",
    "display(rank_alpha)"
   ]
  },
  {
   "cell_type": "markdown",
   "id": "556a0821-93c6-4de4-8a94-c3894948668e",
   "metadata": {},
   "source": [
    "### Next, we'll rank Beta (low arousal)"
   ]
  },
  {
   "cell_type": "code",
   "execution_count": 65,
   "id": "fac7e365-98cc-4b22-8db3-500a5b764893",
   "metadata": {},
   "outputs": [
    {
     "name": "stdout",
     "output_type": "stream",
     "text": [
      "\n",
      "Top by lowest beta_mean (low effort):\n"
     ]
    },
    {
     "data": {
      "text/html": [
       "<div>\n",
       "<style scoped>\n",
       "    .dataframe tbody tr th:only-of-type {\n",
       "        vertical-align: middle;\n",
       "    }\n",
       "\n",
       "    .dataframe tbody tr th {\n",
       "        vertical-align: top;\n",
       "    }\n",
       "\n",
       "    .dataframe thead th {\n",
       "        text-align: right;\n",
       "    }\n",
       "</style>\n",
       "<table border=\"1\" class=\"dataframe\">\n",
       "  <thead>\n",
       "    <tr style=\"text-align: right;\">\n",
       "      <th></th>\n",
       "      <th>beta_mean</th>\n",
       "    </tr>\n",
       "    <tr>\n",
       "      <th>song</th>\n",
       "      <th></th>\n",
       "    </tr>\n",
       "  </thead>\n",
       "  <tbody>\n",
       "    <tr>\n",
       "      <th>walkway_blues</th>\n",
       "      <td>0.325983</td>\n",
       "    </tr>\n",
       "    <tr>\n",
       "      <th>nature_sounds</th>\n",
       "      <td>0.326268</td>\n",
       "    </tr>\n",
       "    <tr>\n",
       "      <th>bulgarian_eternal_funk</th>\n",
       "      <td>0.391455</td>\n",
       "    </tr>\n",
       "    <tr>\n",
       "      <th>aleph</th>\n",
       "      <td>0.607614</td>\n",
       "    </tr>\n",
       "    <tr>\n",
       "      <th>frequency</th>\n",
       "      <td>0.625599</td>\n",
       "    </tr>\n",
       "    <tr>\n",
       "      <th>your_idol</th>\n",
       "      <td>0.627351</td>\n",
       "    </tr>\n",
       "  </tbody>\n",
       "</table>\n",
       "</div>"
      ],
      "text/plain": [
       "                        beta_mean\n",
       "song                             \n",
       "walkway_blues            0.325983\n",
       "nature_sounds            0.326268\n",
       "bulgarian_eternal_funk   0.391455\n",
       "aleph                    0.607614\n",
       "frequency                0.625599\n",
       "your_idol                0.627351"
      ]
     },
     "metadata": {},
     "output_type": "display_data"
    }
   ],
   "source": [
    "rank_beta  = song_summary.sort_values(\"beta_mean\", ascending=True)[[\"beta_mean\"]]\n",
    "print(\"\\nTop by lowest beta_mean (low effort):\")\n",
    "display(rank_beta)"
   ]
  },
  {
   "cell_type": "code",
   "execution_count": 64,
   "id": "1732913a-1962-4649-afc4-da36dcca126d",
   "metadata": {},
   "outputs": [
    {
     "name": "stdout",
     "output_type": "stream",
     "text": [
      "\n",
      "Top by alpha/beta ratio:\n"
     ]
    },
    {
     "data": {
      "text/html": [
       "<div>\n",
       "<style scoped>\n",
       "    .dataframe tbody tr th:only-of-type {\n",
       "        vertical-align: middle;\n",
       "    }\n",
       "\n",
       "    .dataframe tbody tr th {\n",
       "        vertical-align: top;\n",
       "    }\n",
       "\n",
       "    .dataframe thead th {\n",
       "        text-align: right;\n",
       "    }\n",
       "</style>\n",
       "<table border=\"1\" class=\"dataframe\">\n",
       "  <thead>\n",
       "    <tr style=\"text-align: right;\">\n",
       "      <th></th>\n",
       "      <th>alpha_beta_ratio</th>\n",
       "    </tr>\n",
       "    <tr>\n",
       "      <th>song</th>\n",
       "      <th></th>\n",
       "    </tr>\n",
       "  </thead>\n",
       "  <tbody>\n",
       "    <tr>\n",
       "      <th>nature_sounds</th>\n",
       "      <td>2.918081</td>\n",
       "    </tr>\n",
       "    <tr>\n",
       "      <th>walkway_blues</th>\n",
       "      <td>2.359953</td>\n",
       "    </tr>\n",
       "    <tr>\n",
       "      <th>bulgarian_eternal_funk</th>\n",
       "      <td>2.295116</td>\n",
       "    </tr>\n",
       "    <tr>\n",
       "      <th>aleph</th>\n",
       "      <td>1.595378</td>\n",
       "    </tr>\n",
       "    <tr>\n",
       "      <th>frequency</th>\n",
       "      <td>1.551088</td>\n",
       "    </tr>\n",
       "    <tr>\n",
       "      <th>your_idol</th>\n",
       "      <td>1.359573</td>\n",
       "    </tr>\n",
       "  </tbody>\n",
       "</table>\n",
       "</div>"
      ],
      "text/plain": [
       "                        alpha_beta_ratio\n",
       "song                                    \n",
       "nature_sounds                   2.918081\n",
       "walkway_blues                   2.359953\n",
       "bulgarian_eternal_funk          2.295116\n",
       "aleph                           1.595378\n",
       "frequency                       1.551088\n",
       "your_idol                       1.359573"
      ]
     },
     "metadata": {},
     "output_type": "display_data"
    }
   ],
   "source": [
    "rank_ratio = song_summary.sort_values(\"alpha_beta_ratio\", ascending=False)[[\"alpha_beta_ratio\"]]\n",
    "\n",
    "print(\"\\nTop by alpha/beta ratio:\")\n",
    "display(rank_ratio)"
   ]
  },
  {
   "cell_type": "markdown",
   "id": "8bd397fa-a413-4e28-9b44-0ba7db7fa209",
   "metadata": {},
   "source": [
    "### What this suggests\n",
    "* Nature sounds consistently scores as the most “relaxing” across multiple indices (high alpha, low beta, highest α/β ratio).\n",
    "* Frequency and aleph are alpha-heavy but still carry more beta, so maybe they’re calming and gently engaging.\n",
    "* Walkway blues is low-beta (soothing) but not as alpha-boosting as the top two, giving it a slightly different signature.\n",
    "* Your idol consistently ranks lowest on these indices → potentially more stimulating or arousing."
   ]
  },
  {
   "cell_type": "markdown",
   "id": "a77a90a2-c7e6-465a-83e3-3392ca8557e0",
   "metadata": {},
   "source": [
    "### Next let's rank by Theta (deep calm/creativity)"
   ]
  },
  {
   "cell_type": "code",
   "execution_count": 68,
   "id": "c98d9164-4d55-4797-9c54-cac09e0cc803",
   "metadata": {},
   "outputs": [
    {
     "data": {
      "text/html": [
       "<div>\n",
       "<style scoped>\n",
       "    .dataframe tbody tr th:only-of-type {\n",
       "        vertical-align: middle;\n",
       "    }\n",
       "\n",
       "    .dataframe tbody tr th {\n",
       "        vertical-align: top;\n",
       "    }\n",
       "\n",
       "    .dataframe thead th {\n",
       "        text-align: right;\n",
       "    }\n",
       "</style>\n",
       "<table border=\"1\" class=\"dataframe\">\n",
       "  <thead>\n",
       "    <tr style=\"text-align: right;\">\n",
       "      <th></th>\n",
       "      <th>theta_mean</th>\n",
       "    </tr>\n",
       "    <tr>\n",
       "      <th>song</th>\n",
       "      <th></th>\n",
       "    </tr>\n",
       "  </thead>\n",
       "  <tbody>\n",
       "    <tr>\n",
       "      <th>bulgarian_eternal_funk</th>\n",
       "      <td>0.621211</td>\n",
       "    </tr>\n",
       "    <tr>\n",
       "      <th>nature_sounds</th>\n",
       "      <td>0.616753</td>\n",
       "    </tr>\n",
       "    <tr>\n",
       "      <th>aleph</th>\n",
       "      <td>0.611535</td>\n",
       "    </tr>\n",
       "    <tr>\n",
       "      <th>your_idol</th>\n",
       "      <td>0.581299</td>\n",
       "    </tr>\n",
       "    <tr>\n",
       "      <th>frequency</th>\n",
       "      <td>0.551787</td>\n",
       "    </tr>\n",
       "    <tr>\n",
       "      <th>walkway_blues</th>\n",
       "      <td>0.519886</td>\n",
       "    </tr>\n",
       "  </tbody>\n",
       "</table>\n",
       "</div>"
      ],
      "text/plain": [
       "                        theta_mean\n",
       "song                              \n",
       "bulgarian_eternal_funk    0.621211\n",
       "nature_sounds             0.616753\n",
       "aleph                     0.611535\n",
       "your_idol                 0.581299\n",
       "frequency                 0.551787\n",
       "walkway_blues             0.519886"
      ]
     },
     "execution_count": 68,
     "metadata": {},
     "output_type": "execute_result"
    }
   ],
   "source": [
    "rank_theta = song_summary.sort_values(\"theta_mean\", ascending=False)[[\"theta_mean\"]]\n",
    "rank_theta"
   ]
  },
  {
   "cell_type": "markdown",
   "id": "9ae0f750-ed52-4df8-880e-cff5845eb420",
   "metadata": {},
   "source": [
    "### Rank Gamma (sensory/processing)"
   ]
  },
  {
   "cell_type": "code",
   "execution_count": 69,
   "id": "458e1fb3-aa24-4f73-85ac-04d6c9ef1ae9",
   "metadata": {},
   "outputs": [
    {
     "data": {
      "text/html": [
       "<div>\n",
       "<style scoped>\n",
       "    .dataframe tbody tr th:only-of-type {\n",
       "        vertical-align: middle;\n",
       "    }\n",
       "\n",
       "    .dataframe tbody tr th {\n",
       "        vertical-align: top;\n",
       "    }\n",
       "\n",
       "    .dataframe thead th {\n",
       "        text-align: right;\n",
       "    }\n",
       "</style>\n",
       "<table border=\"1\" class=\"dataframe\">\n",
       "  <thead>\n",
       "    <tr style=\"text-align: right;\">\n",
       "      <th></th>\n",
       "      <th>gamma_mean</th>\n",
       "    </tr>\n",
       "    <tr>\n",
       "      <th>song</th>\n",
       "      <th></th>\n",
       "    </tr>\n",
       "  </thead>\n",
       "  <tbody>\n",
       "    <tr>\n",
       "      <th>your_idol</th>\n",
       "      <td>0.218263</td>\n",
       "    </tr>\n",
       "    <tr>\n",
       "      <th>frequency</th>\n",
       "      <td>0.171912</td>\n",
       "    </tr>\n",
       "    <tr>\n",
       "      <th>aleph</th>\n",
       "      <td>0.083430</td>\n",
       "    </tr>\n",
       "    <tr>\n",
       "      <th>nature_sounds</th>\n",
       "      <td>-0.184873</td>\n",
       "    </tr>\n",
       "    <tr>\n",
       "      <th>bulgarian_eternal_funk</th>\n",
       "      <td>-0.185108</td>\n",
       "    </tr>\n",
       "    <tr>\n",
       "      <th>walkway_blues</th>\n",
       "      <td>-0.199018</td>\n",
       "    </tr>\n",
       "  </tbody>\n",
       "</table>\n",
       "</div>"
      ],
      "text/plain": [
       "                        gamma_mean\n",
       "song                              \n",
       "your_idol                 0.218263\n",
       "frequency                 0.171912\n",
       "aleph                     0.083430\n",
       "nature_sounds            -0.184873\n",
       "bulgarian_eternal_funk   -0.185108\n",
       "walkway_blues            -0.199018"
      ]
     },
     "metadata": {},
     "output_type": "display_data"
    }
   ],
   "source": [
    "rank_gamma = song_summary.sort_values(\"gamma_mean\", ascending=False)[[\"gamma_mean\"]]\n",
    "display(rank_gamma)"
   ]
  },
  {
   "cell_type": "markdown",
   "id": "9c1f224e-8a79-4f15-96bd-ae1aa0dfcb89",
   "metadata": {},
   "source": [
    "### Heart Rate (body relaxation)"
   ]
  },
  {
   "cell_type": "code",
   "execution_count": 70,
   "id": "5371358e-9511-4f72-8caf-7c3cb5c06318",
   "metadata": {},
   "outputs": [
    {
     "name": "stdout",
     "output_type": "stream",
     "text": [
      "Lower HR = calmer physiological response\n"
     ]
    },
    {
     "data": {
      "text/html": [
       "<div>\n",
       "<style scoped>\n",
       "    .dataframe tbody tr th:only-of-type {\n",
       "        vertical-align: middle;\n",
       "    }\n",
       "\n",
       "    .dataframe tbody tr th {\n",
       "        vertical-align: top;\n",
       "    }\n",
       "\n",
       "    .dataframe thead th {\n",
       "        text-align: right;\n",
       "    }\n",
       "</style>\n",
       "<table border=\"1\" class=\"dataframe\">\n",
       "  <thead>\n",
       "    <tr style=\"text-align: right;\">\n",
       "      <th></th>\n",
       "      <th>heart_rate_mean</th>\n",
       "    </tr>\n",
       "    <tr>\n",
       "      <th>song</th>\n",
       "      <th></th>\n",
       "    </tr>\n",
       "  </thead>\n",
       "  <tbody>\n",
       "    <tr>\n",
       "      <th>your_idol</th>\n",
       "      <td>82.803298</td>\n",
       "    </tr>\n",
       "    <tr>\n",
       "      <th>frequency</th>\n",
       "      <td>82.829926</td>\n",
       "    </tr>\n",
       "    <tr>\n",
       "      <th>aleph</th>\n",
       "      <td>83.255005</td>\n",
       "    </tr>\n",
       "    <tr>\n",
       "      <th>nature_sounds</th>\n",
       "      <td>83.338314</td>\n",
       "    </tr>\n",
       "    <tr>\n",
       "      <th>bulgarian_eternal_funk</th>\n",
       "      <td>83.408741</td>\n",
       "    </tr>\n",
       "    <tr>\n",
       "      <th>walkway_blues</th>\n",
       "      <td>86.501681</td>\n",
       "    </tr>\n",
       "  </tbody>\n",
       "</table>\n",
       "</div>"
      ],
      "text/plain": [
       "                        heart_rate_mean\n",
       "song                                   \n",
       "your_idol                     82.803298\n",
       "frequency                     82.829926\n",
       "aleph                         83.255005\n",
       "nature_sounds                 83.338314\n",
       "bulgarian_eternal_funk        83.408741\n",
       "walkway_blues                 86.501681"
      ]
     },
     "metadata": {},
     "output_type": "display_data"
    }
   ],
   "source": [
    "rank_hr = song_summary.sort_values(\"heart_rate_mean\", ascending=True)[[\"heart_rate_mean\"]]\n",
    "print(\"Lower HR = calmer physiological response\")\n",
    "display(rank_hr)"
   ]
  },
  {
   "cell_type": "code",
   "execution_count": 54,
   "id": "45d66f60-ec8b-462b-a61d-2c40d431b0de",
   "metadata": {},
   "outputs": [
    {
     "data": {
      "image/png": "[encoded data removed]",
      "text/plain": [
       "<Figure size 1000x500 with 1 Axes>"
      ]
     },
     "metadata": {},
     "output_type": "display_data"
    },
    {
     "data": {
      "image/png": "[encoded data removed]",
      "text/plain": [
       "<Figure size 1000x500 with 1 Axes>"
      ]
     },
     "metadata": {},
     "output_type": "display_data"
    },
    {
     "data": {
      "image/png": "[encoded data removed]",
      "text/plain": [
       "<Figure size 1000x500 with 1 Axes>"
      ]
     },
     "metadata": {},
     "output_type": "display_data"
    }
   ],
   "source": [
    "plt.figure(figsize=(10,5))\n",
    "song_summary[\"alpha_mean\"].plot(kind=\"bar\")\n",
    "plt.title(\"Average Alpha (per song)\")\n",
    "plt.ylabel(\"Alpha Mean (a.u.)\")\n",
    "plt.tight_layout()\n",
    "plt.show()\n",
    "\n",
    "plt.figure(figsize=(10,5))\n",
    "song_summary[\"beta_mean\"].plot(kind=\"bar\")\n",
    "plt.title(\"Average Beta (per song)\")\n",
    "plt.ylabel(\"Beta Mean (a.u.)\")\n",
    "plt.tight_layout()\n",
    "plt.show()\n",
    "\n",
    "plt.figure(figsize=(10,5))\n",
    "song_summary[\"alpha_beta_ratio\"].plot(kind=\"bar\")\n",
    "plt.title(\"Alpha/Beta Ratio (per song)\")\n",
    "plt.ylabel(\"Ratio\")\n",
    "plt.tight_layout()\n",
    "plt.show()\n"
   ]
  },
  {
   "cell_type": "markdown",
   "id": "4687aafa-5230-4ef7-8f3a-cdbf0ab9297e",
   "metadata": {},
   "source": [
    "### One-way ANOVA on alpha_mean\n",
    "Test whether the mean alpha power (alpha_mean) differs significantly across songs."
   ]
  },
  {
   "cell_type": "code",
   "execution_count": 55,
   "id": "6de7dbb8-7012-4082-b1fd-9bcdb4b05339",
   "metadata": {},
   "outputs": [
    {
     "name": "stdout",
     "output_type": "stream",
     "text": [
      "One-way ANOVA on alpha_mean across songs: F=79.554, p=1.488e-73\n"
     ]
    }
   ],
   "source": [
    "alpha_by_song = [grp[\"alpha_mean\"].dropna().values for _, grp in big.groupby(\"song\")]\n",
    "alpha_by_song = [x for x in alpha_by_song if len(x) > 2]  # need some samples\n",
    "\n",
    "if len(alpha_by_song) >= 2:\n",
    "    fval, pval = stats.f_oneway(*alpha_by_song)\n",
    "    print(f\"One-way ANOVA on alpha_mean across songs: F={fval:.3f}, p={pval:.3e}\")\n",
    "else:\n",
    "    print(\"Not enough groups/samples for ANOVA.\")\n"
   ]
  },
  {
   "cell_type": "markdown",
   "id": "a51da166-44bc-4490-9f93-938769652d0f",
   "metadata": {},
   "source": [
    "### Kruskal-Wallis on alpha_mean\n",
    "Again, check whether the distributions of alpha_mean differ across songs. "
   ]
  },
  {
   "cell_type": "markdown",
   "id": "8770c709-b548-4539-85b0-554bd97c20d5",
   "metadata": {},
   "source": [
    "alpha_by_song = [grp[\"alpha_mean\"].dropna().values for _, grp in big.groupby(\"song\")]\n",
    "alpha_by_song = [x for x in alpha_by_song if len(x) > 2]\n",
    "\n",
    "if len(alpha_by_song) >= 2:\n",
    "    hval, pval = stats.kruskal(*alpha_by_song)\n",
    "    print(f\"Kruskal–Wallis on alpha_mean across songs: H={hval:.3f}, p={pval:.3e}\")\n",
    "else:\n",
    "    print(\"Not enough groups/samples for Kruskal–Wallis.\")\n"
   ]
  },
  {
   "cell_type": "markdown",
   "id": "5373e6b5-a4f0-458d-84e6-d45035586477",
   "metadata": {},
   "source": [
    "### Conclusion: \n",
    "Both ANOVA and Kruskal-Wallis show that songs produce highly distinct alpha responses."
   ]
  },
  {
   "cell_type": "markdown",
   "id": "b24cf04f-c2c8-4ef9-8e2f-21105ce53321",
   "metadata": {},
   "source": [
    "### Dimensionality reduction (PCA, t-SNE):\n",
    "I'll plot all songs in 2D space to see which cluster together in terms of brain+body response."
   ]
  },
  {
   "cell_type": "code",
   "execution_count": 71,
   "id": "e1156d26-7ca7-4b9e-9b22-b1e383671886",
   "metadata": {},
   "outputs": [],
   "source": [
    "import pandas as pd\n",
    "import matplotlib.pyplot as plt\n",
    "from sklearn.preprocessing import StandardScaler\n",
    "from sklearn.decomposition import PCA\n",
    "from sklearn.manifold import TSNE"
   ]
  },
  {
   "cell_type": "markdown",
   "id": "8d85776a-6722-4f31-aa50-2c58546c85c2",
   "metadata": {},
   "source": [
    "### Principal Component Analysis (PCA)"
   ]
  },
  {
   "cell_type": "code",
   "execution_count": 73,
   "id": "d3456529-e0a0-4d1e-bc5b-b48fd1e5f681",
   "metadata": {},
   "outputs": [
    {
     "data": {
      "image/png": "[encoded data removed]",
      "text/plain": [
       "<Figure size 600x600 with 1 Axes>"
      ]
     },
     "metadata": {},
     "output_type": "display_data"
    }
   ],
   "source": [
    "feat_cols = [\n",
    "    \"alpha_mean\",\"beta_mean\",\"theta_mean\",\"gamma_mean\",\n",
    "    \"heart_rate_mean\",\"alpha_beta_ratio\",\"engagement_idx\",\"relaxation_idx\"\n",
    "]\n",
    "\n",
    "feat_df = song_summary[feat_cols].dropna().copy()\n",
    "songs = feat_df.index.tolist()\n",
    "\n",
    "# Standardize features\n",
    "X = StandardScaler().fit_transform(feat_df.values)\n",
    "\n",
    "# ---- PCA ----\n",
    "pca = PCA(n_components=2)\n",
    "X_pca = pca.fit_transform(X)\n",
    "\n",
    "plt.figure(figsize=(6,6))\n",
    "for (x,y), label in zip(X_pca, songs):\n",
    "    plt.scatter(x, y, s=100)\n",
    "    plt.text(x+0.02, y, label, fontsize=9)\n",
    "plt.title(\"PCA of Song Brain–Body Features\")\n",
    "plt.xlabel(\"PC1 (%.1f%% var)\" % (pca.explained_variance_ratio_[0]*100))\n",
    "plt.ylabel(\"PC2 (%.1f%% var)\" % (pca.explained_variance_ratio_[1]*100))\n",
    "plt.show()"
   ]
  },
  {
   "cell_type": "markdown",
   "id": "aa665077-2ece-4480-9e6b-f195de16fb99",
   "metadata": {},
   "source": [
    "### Interpretation:\n",
    "* Songs are fairly well separated → they evoke distinct brain–body profiles.\n",
    "* frequency and your_idol cluster together → similar neural state.\n",
    "* nature_sounds and bulgarian_eternal_funk cluster together → another similar response group.\n",
    "* walkway_blues is an outlier → unique signature."
   ]
  },
  {
   "cell_type": "markdown",
   "id": "110a87ba-ba89-4fef-bb39-6fd2d215e09a",
   "metadata": {},
   "source": [
    "### t-distributed Stochastic Neighbor Embedding (t-SNE)"
   ]
  },
  {
   "cell_type": "code",
   "execution_count": 74,
   "id": "ec7f0570-4d85-44e7-806a-422f127ca7df",
   "metadata": {},
   "outputs": [
    {
     "data": {
      "image/png": "[encoded data removed]",
      "text/plain": [
       "<Figure size 600x600 with 1 Axes>"
      ]
     },
     "metadata": {},
     "output_type": "display_data"
    }
   ],
   "source": [
    "X_tsne = TSNE(n_components=2, perplexity=5, random_state=42).fit_transform(X)\n",
    "\n",
    "plt.figure(figsize=(6,6))\n",
    "for (x,y), label in zip(X_tsne, songs):\n",
    "    plt.scatter(x, y, s=100)\n",
    "    plt.text(x+0.02, y, label, fontsize=9)\n",
    "plt.title(\"t-SNE of Song Brain–Body Features\")\n",
    "plt.show()"
   ]
  },
  {
   "cell_type": "markdown",
   "id": "c7bcc82c-aed1-42ba-9f62-704d51fe02cd",
   "metadata": {},
   "source": [
    "### Interpretation\n",
    "* frequency and aleph both high on Y axis, but separated left/right → showing they’re distinct, though somewhat similar in structure.\n",
    "* nature_sounds and bulgarian_eternal_funk sit closer together → cluster of calming, balanced tracks.\n",
    "* your_idol sits off on its own → distinct state.\n",
    "* walkway_blues is far at the bottom → again an outlier, clearly separated from all others."
   ]
  },
  {
   "cell_type": "code",
   "execution_count": null,
   "id": "7682f313-e141-4e3c-9419-b6cabecedadf",
   "metadata": {},
   "outputs": [],
   "source": []
  }
 ],
 "metadata": {
  "kernelspec": {
   "display_name": "pytorch_env",
   "language": "python",
   "name": "pytorch_env"
  },
  "language_info": {
   "codemirror_mode": {
    "name": "ipython",
    "version": 3
   },
   "file_extension": ".py",
   "mimetype": "text/x-python",
   "name": "python",
   "nbconvert_exporter": "python",
   "pygments_lexer": "ipython3",
   "version": "3.9.21"
  }
 },
 "nbformat": 4,
 "nbformat_minor": 5
}
